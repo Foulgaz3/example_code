{
 "cells": [
  {
   "cell_type": "code",
   "execution_count": 56,
   "id": "aa1e1e8d-a25e-4397-b6f5-2e4f4fb4971f",
   "metadata": {},
   "outputs": [],
   "source": [
    "import pandas as pd\n",
    "import numpy as np\n",
    "import matplotlib.pyplot as plt\n",
    "import seaborn as sns\n"
   ]
  },
  {
   "cell_type": "code",
   "execution_count": 57,
   "id": "0e5de1b3-dd5f-49a9-9bb8-71d81c965b11",
   "metadata": {
    "scrolled": true
   },
   "outputs": [],
   "source": [
    "def parse_simulation(file_path):\n",
    "    bodies_data = []\n",
    "    motion_data = []\n",
    "    stepsize = None\n",
    "    \n",
    "    # Flags to identify sections\n",
    "    bodies_section = False\n",
    "    motion_section = False\n",
    "    \n",
    "    # Open and read the file line by line\n",
    "    with open(file_path, 'r') as file:\n",
    "        for line in file:\n",
    "            line = line.strip()\n",
    "            if line == 'BODIES':\n",
    "                bodies_section = True\n",
    "                motion_section = False\n",
    "            elif line == 'MOTION':\n",
    "                bodies_section = False\n",
    "                motion_section = True\n",
    "            elif line.startswith('STEPSIZE:'):\n",
    "                stepsize = float(line.split()[1])\n",
    "            elif bodies_section and line:\n",
    "                if not line.startswith('id'):  # Skip the header line\n",
    "                    bodies_data.append(line.split(', '))\n",
    "            elif motion_section and line:\n",
    "                if not line.startswith('timestep'):  # Skip the header line\n",
    "                    motion_data.append(line.split(', '))\n",
    "    \n",
    "    # Create DataFrames from the collected data\n",
    "    bodies_df = pd.DataFrame(bodies_data, columns=['id', 'mass', 'x', 'y', 'Vx', 'Vy', 'moves'])\n",
    "    motion_df = pd.DataFrame(motion_data, columns=['timestep', 'id', 'x', 'y', 'Vx', 'Vy'])\n",
    "    \n",
    "    # Convert appropriate columns to numeric types\n",
    "    bodies_df = bodies_df.apply(pd.to_numeric)\n",
    "    motion_df = motion_df.apply(pd.to_numeric)\n",
    "    return bodies_df, motion_df, stepsize"
   ]
  },
  {
   "cell_type": "code",
   "execution_count": 58,
   "id": "765ddb00-faf8-46fa-88d9-13b1e87408a2",
   "metadata": {},
   "outputs": [
    {
     "data": {
      "text/html": [
       "<div>\n",
       "<style scoped>\n",
       "    .dataframe tbody tr th:only-of-type {\n",
       "        vertical-align: middle;\n",
       "    }\n",
       "\n",
       "    .dataframe tbody tr th {\n",
       "        vertical-align: top;\n",
       "    }\n",
       "\n",
       "    .dataframe thead th {\n",
       "        text-align: right;\n",
       "    }\n",
       "</style>\n",
       "<table border=\"1\" class=\"dataframe\">\n",
       "  <thead>\n",
       "    <tr style=\"text-align: right;\">\n",
       "      <th></th>\n",
       "      <th>id</th>\n",
       "      <th>mass</th>\n",
       "      <th>x</th>\n",
       "      <th>y</th>\n",
       "      <th>Vx</th>\n",
       "      <th>Vy</th>\n",
       "      <th>moves</th>\n",
       "    </tr>\n",
       "  </thead>\n",
       "  <tbody>\n",
       "    <tr>\n",
       "      <th>0</th>\n",
       "      <td>0</td>\n",
       "      <td>1.989000e+30</td>\n",
       "      <td>0.000000e+00</td>\n",
       "      <td>0.0</td>\n",
       "      <td>0.0</td>\n",
       "      <td>0.0</td>\n",
       "      <td>1</td>\n",
       "    </tr>\n",
       "    <tr>\n",
       "      <th>1</th>\n",
       "      <td>1</td>\n",
       "      <td>5.972000e+24</td>\n",
       "      <td>1.500000e+11</td>\n",
       "      <td>0.0</td>\n",
       "      <td>0.0</td>\n",
       "      <td>29850.0</td>\n",
       "      <td>1</td>\n",
       "    </tr>\n",
       "  </tbody>\n",
       "</table>\n",
       "</div>"
      ],
      "text/plain": [
       "   id          mass             x    y   Vx       Vy  moves\n",
       "0   0  1.989000e+30  0.000000e+00  0.0  0.0      0.0      1\n",
       "1   1  5.972000e+24  1.500000e+11  0.0  0.0  29850.0      1"
      ]
     },
     "metadata": {},
     "output_type": "display_data"
    },
    {
     "data": {
      "text/html": [
       "<div>\n",
       "<style scoped>\n",
       "    .dataframe tbody tr th:only-of-type {\n",
       "        vertical-align: middle;\n",
       "    }\n",
       "\n",
       "    .dataframe tbody tr th {\n",
       "        vertical-align: top;\n",
       "    }\n",
       "\n",
       "    .dataframe thead th {\n",
       "        text-align: right;\n",
       "    }\n",
       "</style>\n",
       "<table border=\"1\" class=\"dataframe\">\n",
       "  <thead>\n",
       "    <tr style=\"text-align: right;\">\n",
       "      <th></th>\n",
       "      <th>timestep</th>\n",
       "      <th>id</th>\n",
       "      <th>x</th>\n",
       "      <th>y</th>\n",
       "      <th>Vx</th>\n",
       "      <th>Vy</th>\n",
       "    </tr>\n",
       "  </thead>\n",
       "  <tbody>\n",
       "    <tr>\n",
       "      <th>0</th>\n",
       "      <td>0</td>\n",
       "      <td>0</td>\n",
       "      <td>6.612116e+01</td>\n",
       "      <td>0.000000e+00</td>\n",
       "      <td>0.001531</td>\n",
       "      <td>0.000000</td>\n",
       "    </tr>\n",
       "    <tr>\n",
       "      <th>1</th>\n",
       "      <td>0</td>\n",
       "      <td>1</td>\n",
       "      <td>1.499780e+11</td>\n",
       "      <td>2.579040e+09</td>\n",
       "      <td>-509.767000</td>\n",
       "      <td>29850.000000</td>\n",
       "    </tr>\n",
       "    <tr>\n",
       "      <th>2</th>\n",
       "      <td>1</td>\n",
       "      <td>0</td>\n",
       "      <td>2.644748e+02</td>\n",
       "      <td>1.136857e+00</td>\n",
       "      <td>0.003061</td>\n",
       "      <td>0.000026</td>\n",
       "    </tr>\n",
       "    <tr>\n",
       "      <th>3</th>\n",
       "      <td>1</td>\n",
       "      <td>1</td>\n",
       "      <td>1.499119e+11</td>\n",
       "      <td>5.157701e+09</td>\n",
       "      <td>-1019.458000</td>\n",
       "      <td>29841.240000</td>\n",
       "    </tr>\n",
       "    <tr>\n",
       "      <th>4</th>\n",
       "      <td>2</td>\n",
       "      <td>0</td>\n",
       "      <td>5.950211e+02</td>\n",
       "      <td>5.684099e+00</td>\n",
       "      <td>0.004591</td>\n",
       "      <td>0.000079</td>\n",
       "    </tr>\n",
       "  </tbody>\n",
       "</table>\n",
       "</div>"
      ],
      "text/plain": [
       "   timestep  id             x             y           Vx            Vy\n",
       "0         0   0  6.612116e+01  0.000000e+00     0.001531      0.000000\n",
       "1         0   1  1.499780e+11  2.579040e+09  -509.767000  29850.000000\n",
       "2         1   0  2.644748e+02  1.136857e+00     0.003061      0.000026\n",
       "3         1   1  1.499119e+11  5.157701e+09 -1019.458000  29841.240000\n",
       "4         2   0  5.950211e+02  5.684099e+00     0.004591      0.000079"
      ]
     },
     "metadata": {},
     "output_type": "display_data"
    },
    {
     "name": "stdout",
     "output_type": "stream",
     "text": [
      "seconds per timestep: 86400.0\n"
     ]
    }
   ],
   "source": [
    "path = 'build/simulation.txt'\n",
    "\n",
    "planets, motion, stepsize = parse_simulation(path)\n",
    "display(planets.head())\n",
    "display(motion.head())\n",
    "print(f\"seconds per timestep: {stepsize}\")"
   ]
  },
  {
   "cell_type": "code",
   "execution_count": 59,
   "id": "0ea096c5-bf2e-4c6f-89d1-ce1208edbdf9",
   "metadata": {},
   "outputs": [
    {
     "data": {
      "text/plain": [
       "<Axes: xlabel='x', ylabel='y'>"
      ]
     },
     "execution_count": 59,
     "metadata": {},
     "output_type": "execute_result"
    },
    {
     "data": {
      "image/png": "[encoded data removed]",
      "text/plain": [
       "<Figure size 640x480 with 1 Axes>"
      ]
     },
     "metadata": {},
     "output_type": "display_data"
    }
   ],
   "source": [
    "sns.scatterplot(motion , x='x', y='y', hue='id', s=5)"
   ]
  },
  {
   "cell_type": "code",
   "execution_count": null,
   "id": "19dcd5a5-3028-4546-a275-30b28062aec8",
   "metadata": {},
   "outputs": [],
   "source": []
  }
 ],
 "metadata": {
  "kernelspec": {
   "display_name": "Python 3 (ipykernel)",
   "language": "python",
   "name": "python3"
  },
  "language_info": {
   "codemirror_mode": {
    "name": "ipython",
    "version": 3
   },
   "file_extension": ".py",
   "mimetype": "text/x-python",
   "name": "python",
   "nbconvert_exporter": "python",
   "pygments_lexer": "ipython3",
   "version": "3.12.3"
  }
 },
 "nbformat": 4,
 "nbformat_minor": 5
}
